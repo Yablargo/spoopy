{
 "cells": [
  {
   "cell_type": "code",
   "execution_count": 137,
   "metadata": {},
   "outputs": [],
   "source": [
    "import pandas as pd\n",
    "import numpy as np\n",
    "import seaborn as sns\n",
    "import matplotlib.pyplot as plt\n",
    "from scipy import stats\n",
    "import nltk\n",
    "\n",
    "\n",
    "from sklearn.ensemble import RandomForestRegressor\n",
    "from sklearn.linear_model import LassoCV\n",
    "from sklearn.pipeline import Pipeline\n",
    "from sklearn.preprocessing import StandardScaler, LabelEncoder\n",
    "from xgboost.sklearn import XGBRegressor\n",
    "from sklearn.feature_extraction.text import CountVectorizer\n",
    "from sklearn.feature_extraction.text import TfidfTransformer, TfidfVectorizer\n",
    "from sklearn.linear_model import SGDClassifier\n",
    "from sklearn.model_selection import GridSearchCV\n",
    "from sklearn.decomposition import NMF\n",
    "from sklearn.decomposition import LatentDirichletAllocation as LDA\n",
    "from sklearn.model_selection import train_test_split\n",
    "from sklearn.metrics import log_loss"
   ]
  },
  {
   "cell_type": "code",
   "execution_count": 2,
   "metadata": {},
   "outputs": [],
   "source": [
    "# read in data\n",
    "train = pd.read_csv('train.csv')\n",
    "test = pd.read_csv('test.csv')"
   ]
  },
  {
   "cell_type": "code",
   "execution_count": 3,
   "metadata": {},
   "outputs": [],
   "source": [
    "# save shape for splitting later\n",
    "ntrain = train.shape[0]\n",
    "ntest = test.shape[0]"
   ]
  },
  {
   "cell_type": "code",
   "execution_count": 4,
   "metadata": {},
   "outputs": [],
   "source": [
    "# Get subset of data for each author\n",
    "train_EAP = train[train.author.isin(['EAP'])]\n",
    "train_MWS = train[train.author.isin(['MWS'])]\n",
    "train_HPL = train[train.author.isin(['HPL'])]"
   ]
  },
  {
   "cell_type": "code",
   "execution_count": 5,
   "metadata": {},
   "outputs": [
    {
     "data": {
      "text/plain": [
       "EAP    7900\n",
       "MWS    6044\n",
       "HPL    5635\n",
       "Name: author, dtype: int64"
      ]
     },
     "execution_count": 5,
     "metadata": {},
     "output_type": "execute_result"
    }
   ],
   "source": [
    "train.author.value_counts()"
   ]
  },
  {
   "cell_type": "markdown",
   "metadata": {},
   "source": [
    "Maybe remove punctuation? Is \"help, different than help different than \"help different than help, ?\n",
    "\n",
    "This will be done with tokenization, actually.\n"
   ]
  },
  {
   "cell_type": "code",
   "execution_count": 6,
   "metadata": {},
   "outputs": [],
   "source": [
    "all_words = train['text'].str.split(expand=True).unstack().value_counts()"
   ]
  },
  {
   "cell_type": "code",
   "execution_count": 7,
   "metadata": {},
   "outputs": [],
   "source": [
    "all_words_EAP = train_EAP['text'].str.split(expand=True).unstack().value_counts()\n",
    "all_words_MWS = train_MWS['text'].str.split(expand=True).unstack().value_counts()\n",
    "all_words_HPL = train_HPL['text'].str.split(expand=True).unstack().value_counts()"
   ]
  },
  {
   "cell_type": "code",
   "execution_count": 8,
   "metadata": {},
   "outputs": [
    {
     "data": {
      "text/plain": [
       "the               13927\n",
       "of                 8930\n",
       "and                5222\n",
       "to                 4625\n",
       "a                  4514\n",
       "in                 3750\n",
       "I                  3598\n",
       "was                2109\n",
       "that               2085\n",
       "my                 1666\n",
       "with               1635\n",
       "it                 1555\n",
       "is                 1530\n",
       "at                 1464\n",
       "as                 1458\n",
       "which              1377\n",
       "had                1265\n",
       "for                1214\n",
       "not                1184\n",
       "his                1167\n",
       "by                 1125\n",
       "be                 1049\n",
       "have               1037\n",
       "this                964\n",
       "he                  963\n",
       "The                 954\n",
       "upon                951\n",
       "from                938\n",
       "but                 803\n",
       "an                  783\n",
       "                  ...  \n",
       "jacket                1\n",
       "monotonously          1\n",
       "\"'We                  1\n",
       "disorders             1\n",
       "vegetation,           1\n",
       "regretted.            1\n",
       "defying               1\n",
       "testimony,            1\n",
       "testimony.            1\n",
       "\"Several              1\n",
       "silly,                1\n",
       "Amriccan              1\n",
       "assented              1\n",
       "Mediterranean;        1\n",
       "Tremaine,             1\n",
       "foaming,              1\n",
       "Witness               1\n",
       "\"Hem\"                 1\n",
       "elderly               1\n",
       "\"playing              1\n",
       "Tremaine?             1\n",
       "palaces.\"             1\n",
       "murderer,             1\n",
       "observe.\"             1\n",
       "Pressing              1\n",
       "manner.\"              1\n",
       "thinner               1\n",
       "jealousy              1\n",
       "prepared.             1\n",
       "overawed              1\n",
       "Length: 26521, dtype: int64"
      ]
     },
     "execution_count": 8,
     "metadata": {},
     "output_type": "execute_result"
    }
   ],
   "source": [
    "all_words_EAP"
   ]
  },
  {
   "cell_type": "code",
   "execution_count": 9,
   "metadata": {},
   "outputs": [
    {
     "name": "stdout",
     "output_type": "stream",
     "text": [
      "This process , however , afforded me no means of ascertaining the dimensions of my dungeon ; as I might make its circuit , and return to the point whence I set out , without being aware of the fact ; so perfectly uniform seemed the wall . In his\n"
     ]
    }
   ],
   "source": [
    "# All tokens of each author\n",
    "all_tokens = nltk.word_tokenize(\" \".join(train.text.values).decode('utf8'))\n",
    "all_tokens_EAP = nltk.word_tokenize(\" \".join(train_EAP.text.values).decode('utf8'))\n",
    "all_tokens_MWS = nltk.word_tokenize(\" \".join(train_MWS.text.values).decode('utf8'))\n",
    "all_tokens_HPL = nltk.word_tokenize(\" \".join(train_HPL.text.values).decode('utf8'))\n",
    "print(\" \".join(all_tokens_EAP[0:50]))"
   ]
  },
  {
   "cell_type": "code",
   "execution_count": 10,
   "metadata": {},
   "outputs": [
    {
     "name": "stderr",
     "output_type": "stream",
     "text": [
      "C:\\ProgramData\\Anaconda2\\lib\\site-packages\\ipykernel_launcher.py:3: SettingWithCopyWarning: \n",
      "A value is trying to be set on a copy of a slice from a DataFrame.\n",
      "Try using .loc[row_indexer,col_indexer] = value instead\n",
      "\n",
      "See the caveats in the documentation: http://pandas.pydata.org/pandas-docs/stable/indexing.html#indexing-view-versus-copy\n",
      "  This is separate from the ipykernel package so we can avoid doing imports until\n",
      "C:\\ProgramData\\Anaconda2\\lib\\site-packages\\ipykernel_launcher.py:4: SettingWithCopyWarning: \n",
      "A value is trying to be set on a copy of a slice from a DataFrame.\n",
      "Try using .loc[row_indexer,col_indexer] = value instead\n",
      "\n",
      "See the caveats in the documentation: http://pandas.pydata.org/pandas-docs/stable/indexing.html#indexing-view-versus-copy\n",
      "  after removing the cwd from sys.path.\n"
     ]
    },
    {
     "name": "stdout",
     "output_type": "stream",
     "text": [
      "[u'This', u'process', u',', u'however', u',', u'afforded', u'me', u'no', u'means', u'of', u'ascertaining', u'the', u'dimensions', u'of', u'my', u'dungeon', u';', u'as', u'I', u'might', u'make', u'its', u'circuit', u',', u'and', u'return', u'to', u'the', u'point', u'whence', u'I', u'set', u'out', u',', u'without', u'being', u'aware', u'of', u'the', u'fact', u';', u'so', u'perfectly', u'uniform', u'seemed', u'the', u'wall', u'.']\n"
     ]
    },
    {
     "name": "stderr",
     "output_type": "stream",
     "text": [
      "C:\\ProgramData\\Anaconda2\\lib\\site-packages\\ipykernel_launcher.py:5: SettingWithCopyWarning: \n",
      "A value is trying to be set on a copy of a slice from a DataFrame.\n",
      "Try using .loc[row_indexer,col_indexer] = value instead\n",
      "\n",
      "See the caveats in the documentation: http://pandas.pydata.org/pandas-docs/stable/indexing.html#indexing-view-versus-copy\n",
      "  \"\"\"\n"
     ]
    }
   ],
   "source": [
    "# All tokens of each author, spearated by rows, appended to the original dataframe\n",
    "train['tokens'] = [nltk.word_tokenize(i.decode('utf8')) for i in train.text.values]\n",
    "train_EAP['tokens'] = [nltk.word_tokenize(i.decode('utf8')) for i in train_EAP.text.values]\n",
    "train_MWS['tokens'] = [nltk.word_tokenize(i.decode('utf8')) for i in train_MWS.text.values]\n",
    "train_HPL['tokens'] = [nltk.word_tokenize(i.decode('utf8')) for i in train_HPL.text.values]\n",
    "print(train_EAP.tokens.values[0])"
   ]
  },
  {
   "cell_type": "code",
   "execution_count": 11,
   "metadata": {},
   "outputs": [
    {
     "name": "stderr",
     "output_type": "stream",
     "text": [
      "C:\\ProgramData\\Anaconda2\\lib\\site-packages\\ipykernel_launcher.py:5: SettingWithCopyWarning: \n",
      "A value is trying to be set on a copy of a slice from a DataFrame.\n",
      "Try using .loc[row_indexer,col_indexer] = value instead\n",
      "\n",
      "See the caveats in the documentation: http://pandas.pydata.org/pandas-docs/stable/indexing.html#indexing-view-versus-copy\n",
      "  \"\"\"\n",
      "C:\\ProgramData\\Anaconda2\\lib\\site-packages\\ipykernel_launcher.py:6: SettingWithCopyWarning: \n",
      "A value is trying to be set on a copy of a slice from a DataFrame.\n",
      "Try using .loc[row_indexer,col_indexer] = value instead\n",
      "\n",
      "See the caveats in the documentation: http://pandas.pydata.org/pandas-docs/stable/indexing.html#indexing-view-versus-copy\n",
      "  \n"
     ]
    },
    {
     "name": "stdout",
     "output_type": "stream",
     "text": [
      "[u'thi', u'process', u',', u'howev', u',', u'afford', u'me', u'no', u'mean', u'of', u'ascertain', u'the', u'dimens', u'of', u'my', u'dungeon', u';', u'a', u'I', u'might', u'make', u'it', u'circuit', u',', u'and', u'return', u'to', u'the', u'point', u'whenc', u'I', u'set', u'out', u',', u'without', u'be', u'awar', u'of', u'the', u'fact', u';', u'so', u'perfectli', u'uniform', u'seem', u'the', u'wall', u'.']\n"
     ]
    },
    {
     "name": "stderr",
     "output_type": "stream",
     "text": [
      "C:\\ProgramData\\Anaconda2\\lib\\site-packages\\ipykernel_launcher.py:7: SettingWithCopyWarning: \n",
      "A value is trying to be set on a copy of a slice from a DataFrame.\n",
      "Try using .loc[row_indexer,col_indexer] = value instead\n",
      "\n",
      "See the caveats in the documentation: http://pandas.pydata.org/pandas-docs/stable/indexing.html#indexing-view-versus-copy\n",
      "  import sys\n"
     ]
    }
   ],
   "source": [
    "# Stem/lemm the tokens\n",
    "stemmer = nltk.stem.PorterStemmer()\n",
    "lemmer = nltk.stem.WordNetLemmatizer()\n",
    "train['lemmed'] = [[stemmer.stem(lemmer.lemmatize(j)) for j in i] for i in train.tokens.values ]\n",
    "train_EAP['lemmed'] = [[stemmer.stem(lemmer.lemmatize(j)) for j in i] for i in train_EAP.tokens.values]\n",
    "train_MWS['lemmed'] = [[stemmer.stem(lemmer.lemmatize(j)) for i in i] for i in train_MWS.tokens.values]\n",
    "train_HPL['lemmed'] = [[stemmer.stem(lemmer.lemmatize(j)) for j in i] for i in train_HPL.tokens.values]\n",
    "print(train_EAP.lemmed.values[0])\n",
    "\n",
    "\n",
    "                                   "
   ]
  },
  {
   "cell_type": "code",
   "execution_count": 12,
   "metadata": {},
   "outputs": [
    {
     "data": {
      "text/plain": [
       ",             17594\n",
       "the           14969\n",
       "of             8938\n",
       ".              7700\n",
       "a              5997\n",
       "and            5733\n",
       "to             4646\n",
       "I              3775\n",
       "in             3773\n",
       "it             2491\n",
       "that           2327\n",
       "wa             2229\n",
       "with           1695\n",
       "my             1670\n",
       "is             1645\n",
       "``             1628\n",
       "which          1488\n",
       "at             1468\n",
       "''             1359\n",
       ";              1354\n",
       "not            1347\n",
       "for            1343\n",
       "had            1318\n",
       "be             1311\n",
       "thi            1308\n",
       "hi             1284\n",
       "have           1242\n",
       "but            1200\n",
       "by             1144\n",
       "upon           1025\n",
       "              ...  \n",
       "rôle              1\n",
       "verbal            1\n",
       "contr             1\n",
       "bedizzen          1\n",
       "unsoci            1\n",
       "allbreath         1\n",
       "kickapo           1\n",
       "widdi             1\n",
       "wheat             1\n",
       "sadden            1\n",
       "bethink           1\n",
       "engross           1\n",
       "treacher          1\n",
       "bra               1\n",
       "wilkin            1\n",
       "tibia             1\n",
       "aurelian          1\n",
       "milki             1\n",
       "snow              1\n",
       "leafi             1\n",
       "senseless         1\n",
       "hxmx              1\n",
       "angler            1\n",
       "pauvr             1\n",
       "frown             1\n",
       "vertu             1\n",
       "basest            1\n",
       "unwrought         1\n",
       "blackberri        1\n",
       "fawn              1\n",
       "Length: 10346, dtype: int64"
      ]
     },
     "execution_count": 12,
     "metadata": {},
     "output_type": "execute_result"
    }
   ],
   "source": [
    "pd.Series([j for i in train_EAP.lemmed.values for j in i]).value_counts()"
   ]
  },
  {
   "cell_type": "code",
   "execution_count": 124,
   "metadata": {},
   "outputs": [
    {
     "data": {
      "text/html": [
       "<div>\n",
       "<style scoped>\n",
       "    .dataframe tbody tr th:only-of-type {\n",
       "        vertical-align: middle;\n",
       "    }\n",
       "\n",
       "    .dataframe tbody tr th {\n",
       "        vertical-align: top;\n",
       "    }\n",
       "\n",
       "    .dataframe thead th {\n",
       "        text-align: right;\n",
       "    }\n",
       "</style>\n",
       "<table border=\"1\" class=\"dataframe\">\n",
       "  <thead>\n",
       "    <tr style=\"text-align: right;\">\n",
       "      <th></th>\n",
       "      <th>EAP</th>\n",
       "      <th>HPL</th>\n",
       "      <th>MWS</th>\n",
       "    </tr>\n",
       "  </thead>\n",
       "  <tbody>\n",
       "    <tr>\n",
       "      <th>0</th>\n",
       "      <td>1</td>\n",
       "      <td>0</td>\n",
       "      <td>0</td>\n",
       "    </tr>\n",
       "    <tr>\n",
       "      <th>1</th>\n",
       "      <td>0</td>\n",
       "      <td>1</td>\n",
       "      <td>0</td>\n",
       "    </tr>\n",
       "    <tr>\n",
       "      <th>2</th>\n",
       "      <td>1</td>\n",
       "      <td>0</td>\n",
       "      <td>0</td>\n",
       "    </tr>\n",
       "    <tr>\n",
       "      <th>3</th>\n",
       "      <td>0</td>\n",
       "      <td>0</td>\n",
       "      <td>1</td>\n",
       "    </tr>\n",
       "    <tr>\n",
       "      <th>4</th>\n",
       "      <td>0</td>\n",
       "      <td>1</td>\n",
       "      <td>0</td>\n",
       "    </tr>\n",
       "  </tbody>\n",
       "</table>\n",
       "</div>"
      ],
      "text/plain": [
       "   EAP  HPL  MWS\n",
       "0    1    0    0\n",
       "1    0    1    0\n",
       "2    1    0    0\n",
       "3    0    0    1\n",
       "4    0    1    0"
      ]
     },
     "execution_count": 124,
     "metadata": {},
     "output_type": "execute_result"
    }
   ],
   "source": [
    "# Get one-hot encoding\n",
    "author_one_hot = pd.get_dummies(train['author'])\n",
    "author_one_hot.head()"
   ]
  },
  {
   "cell_type": "code",
   "execution_count": 14,
   "metadata": {},
   "outputs": [
    {
     "data": {
      "text/html": [
       "<div>\n",
       "<style scoped>\n",
       "    .dataframe tbody tr th:only-of-type {\n",
       "        vertical-align: middle;\n",
       "    }\n",
       "\n",
       "    .dataframe tbody tr th {\n",
       "        vertical-align: top;\n",
       "    }\n",
       "\n",
       "    .dataframe thead th {\n",
       "        text-align: right;\n",
       "    }\n",
       "</style>\n",
       "<table border=\"1\" class=\"dataframe\">\n",
       "  <thead>\n",
       "    <tr style=\"text-align: right;\">\n",
       "      <th></th>\n",
       "      <th>id</th>\n",
       "      <th>text</th>\n",
       "      <th>EAP</th>\n",
       "    </tr>\n",
       "  </thead>\n",
       "  <tbody>\n",
       "    <tr>\n",
       "      <th>0</th>\n",
       "      <td>id26305</td>\n",
       "      <td>This process, however, afforded me no means of...</td>\n",
       "      <td>1</td>\n",
       "    </tr>\n",
       "    <tr>\n",
       "      <th>1</th>\n",
       "      <td>id17569</td>\n",
       "      <td>It never once occurred to me that the fumbling...</td>\n",
       "      <td>0</td>\n",
       "    </tr>\n",
       "    <tr>\n",
       "      <th>2</th>\n",
       "      <td>id11008</td>\n",
       "      <td>In his left hand was a gold snuff box, from wh...</td>\n",
       "      <td>1</td>\n",
       "    </tr>\n",
       "    <tr>\n",
       "      <th>3</th>\n",
       "      <td>id27763</td>\n",
       "      <td>How lovely is spring As we looked from Windsor...</td>\n",
       "      <td>0</td>\n",
       "    </tr>\n",
       "    <tr>\n",
       "      <th>4</th>\n",
       "      <td>id12958</td>\n",
       "      <td>Finding nothing else, not even gold, the Super...</td>\n",
       "      <td>0</td>\n",
       "    </tr>\n",
       "  </tbody>\n",
       "</table>\n",
       "</div>"
      ],
      "text/plain": [
       "        id                                               text  EAP\n",
       "0  id26305  This process, however, afforded me no means of...    1\n",
       "1  id17569  It never once occurred to me that the fumbling...    0\n",
       "2  id11008  In his left hand was a gold snuff box, from wh...    1\n",
       "3  id27763  How lovely is spring As we looked from Windsor...    0\n",
       "4  id12958  Finding nothing else, not even gold, the Super...    0"
      ]
     },
     "execution_count": 14,
     "metadata": {},
     "output_type": "execute_result"
    }
   ],
   "source": [
    "# Make 3 train sets from one hot\n",
    "train_is_EAP = train[['id','text']].join(author_one_hot[['EAP']])\n",
    "train_is_MWS = train[['id','text']].join(author_one_hot[['MWS']])\n",
    "train_is_HPL = train[['id','text']].join(author_one_hot[['HPL']])\n",
    "train_is_EAP.head()\n"
   ]
  },
  {
   "cell_type": "code",
   "execution_count": 44,
   "metadata": {},
   "outputs": [],
   "source": [
    "# -------Random attempt-------------\n",
    "\n",
    "# Split training data so we have sove test data to validate our model\n",
    "# Use test size of 30%\n",
    "X_train_EAP, X_test_EAP, y_train_EAP, y_test_EAP = train_test_split(train_is_EAP.text, \n",
    "                                                                    train_is_EAP.EAP,\n",
    "                                                                    test_size=.3,\n",
    "                                                                    random_state=0)\n",
    "# Set up a pipeline to tokenize and then estimate\n",
    "pipe1 = Pipeline([\n",
    "    ('cv', CountVectorizer()),\n",
    "    ('clf', SGDClassifier()),\n",
    "])\n",
    "\n",
    "# Set up parameters to test in our grid search\n",
    "parameters = {\n",
    "    'cv__stop_words': [None,'english'],\n",
    "    'clf__alpha': (0.00001, 0.000001),\n",
    "    'clf__penalty': ('l2', 'elasticnet'),\n",
    "    'clf__loss':['log']\n",
    "}\n"
   ]
  },
  {
   "cell_type": "code",
   "execution_count": 96,
   "metadata": {},
   "outputs": [
    {
     "name": "stdout",
     "output_type": "stream",
     "text": [
      "Fitting 3 folds for each of 8 candidates, totalling 24 fits\n"
     ]
    },
    {
     "name": "stderr",
     "output_type": "stream",
     "text": [
      "[Parallel(n_jobs=-1)]: Done  24 out of  24 | elapsed:   14.9s finished\n"
     ]
    }
   ],
   "source": [
    "# Test all combinations of \n",
    "gs = GridSearchCV(pipe1, parameters, n_jobs=-1, verbose=1)\n",
    "gs_EAP = gs.fit(X_train_EAP, y_train_EAP)"
   ]
  },
  {
   "cell_type": "code",
   "execution_count": 97,
   "metadata": {},
   "outputs": [
    {
     "data": {
      "text/plain": [
       "{'clf__alpha': 1e-06,\n",
       " 'clf__loss': 'log',\n",
       " 'clf__penalty': 'elasticnet',\n",
       " 'cv__stop_words': None}"
      ]
     },
     "execution_count": 97,
     "metadata": {},
     "output_type": "execute_result"
    }
   ],
   "source": [
    "gs_EAP.best_params_     # The best combination of parameters for our pipeline"
   ]
  },
  {
   "cell_type": "code",
   "execution_count": 98,
   "metadata": {},
   "outputs": [
    {
     "name": "stdout",
     "output_type": "stream",
     "text": [
      "16527    0.0\n",
      "6398     0.0\n",
      "10604    0.0\n",
      "17864    0.0\n",
      "19368    0.0\n",
      "15369    1.0\n",
      "3949     1.0\n",
      "14934    0.0\n",
      "5469     1.0\n",
      "6409     1.0\n",
      "dtype: float64\n",
      "\n",
      "16527    0\n",
      "6398     0\n",
      "10604    0\n",
      "17864    0\n",
      "19368    0\n",
      "15369    0\n",
      "3949     1\n",
      "14934    0\n",
      "5469     1\n",
      "6409     1\n",
      "Name: EAP, dtype: uint8\n"
     ]
    },
    {
     "name": "stderr",
     "output_type": "stream",
     "text": [
      "C:\\ProgramData\\Anaconda2\\lib\\site-packages\\sklearn\\linear_model\\base.py:340: RuntimeWarning: overflow encountered in exp\n",
      "  np.exp(prob, prob)\n"
     ]
    }
   ],
   "source": [
    "# Get a prediction from the test data we split off earlier -- We have the correct labels for this in y_test_EAP\n",
    "y_pred_EAP = gs_EAP.predict_proba(X_test_EAP)\n",
    "\n",
    "# Reformat results\n",
    "y_pred_EAP = np.array(y_pred_EAP)\n",
    "y_pred_EAP = pd.Series(index=y_test_EAP.index,\n",
    "                       data=y_pred_EAP[:,1]\n",
    "                      ).round()\n",
    "\n",
    "print(y_pred_EAP.head(10))\n",
    "print\n",
    "print(y_test_EAP.head(10))"
   ]
  },
  {
   "cell_type": "code",
   "execution_count": 99,
   "metadata": {},
   "outputs": [
    {
     "data": {
      "text/plain": [
       "count     5874\n",
       "unique       2\n",
       "top       True\n",
       "freq      4802\n",
       "dtype: object"
      ]
     },
     "execution_count": 99,
     "metadata": {},
     "output_type": "execute_result"
    }
   ],
   "source": [
    "# ----- Results -----\n",
    "y_test_EAP.eq(y_pred_EAP).describe()"
   ]
  },
  {
   "cell_type": "code",
   "execution_count": 100,
   "metadata": {},
   "outputs": [
    {
     "data": {
      "text/plain": [
       "0.8175008512087164"
      ]
     },
     "execution_count": 100,
     "metadata": {},
     "output_type": "execute_result"
    }
   ],
   "source": [
    "4802.0/5874.0"
   ]
  },
  {
   "cell_type": "code",
   "execution_count": 101,
   "metadata": {},
   "outputs": [
    {
     "data": {
      "text/plain": [
       "6.3033891766444725"
      ]
     },
     "execution_count": 101,
     "metadata": {},
     "output_type": "execute_result"
    }
   ],
   "source": [
    "# Log_loss is the specified metric from the competition\n",
    "log_loss(y_test_EAP,y_pred_EAP)"
   ]
  },
  {
   "cell_type": "markdown",
   "metadata": {},
   "source": [
    "I don't know why log loss is so high. I may be inputing the results wrong. Or maybe it's because I haven't done the other authors yet. Also, note the `.round()` when formatting `y_pred_EAP`. The actual results had floats that were effectively 0 (e-14,15,16 etc) or very nearly 1 (e.g 9.99807e-1). In rounding, there is inherently some information loss so maybe we can find a math function to map that value to some sort of confidence in the result.... "
   ]
  },
  {
   "cell_type": "code",
   "execution_count": 102,
   "metadata": {},
   "outputs": [
    {
     "name": "stdout",
     "output_type": "stream",
     "text": [
      "Fitting 3 folds for each of 8 candidates, totalling 24 fits\n"
     ]
    },
    {
     "name": "stderr",
     "output_type": "stream",
     "text": [
      "[Parallel(n_jobs=-1)]: Done  24 out of  24 | elapsed:   14.5s finished\n"
     ]
    }
   ],
   "source": [
    "# Same as above, but for MWS\n",
    "\n",
    "# Split training data so we have sove test data to validate our model\n",
    "# Use test size of 30%\n",
    "X_train_MWS, X_test_MWS, y_train_MWS, y_test_MWS = train_test_split(train_is_MWS.text, \n",
    "                                                                    train_is_MWS.MWS,\n",
    "                                                                    test_size=.3,\n",
    "                                                                    random_state=0)\n",
    "# Set up a pipeline to tokenize and then estimate\n",
    "pipe2 = Pipeline([\n",
    "    ('cv', CountVectorizer()),\n",
    "    ('clf', SGDClassifier()),\n",
    "])\n",
    "\n",
    "# Set up parameters to test in our grid search\n",
    "parameters = {\n",
    "    'cv__stop_words': [None,'english'],\n",
    "    'clf__alpha': (0.00001, 0.000001),\n",
    "    'clf__penalty': ('l2', 'elasticnet'),\n",
    "    'clf__loss':['log']\n",
    "}\n",
    "\n",
    "# Test all combinations of paramters for our estimator and vectorizer\n",
    "gs = GridSearchCV(pipe2, parameters, n_jobs=-1, verbose=1)\n",
    "gs_MWS = gs.fit(X_train_MWS, y_train_MWS)"
   ]
  },
  {
   "cell_type": "code",
   "execution_count": 103,
   "metadata": {},
   "outputs": [
    {
     "data": {
      "text/plain": [
       "{'clf__alpha': 1e-06,\n",
       " 'clf__loss': 'log',\n",
       " 'clf__penalty': 'elasticnet',\n",
       " 'cv__stop_words': None}"
      ]
     },
     "execution_count": 103,
     "metadata": {},
     "output_type": "execute_result"
    }
   ],
   "source": [
    "gs_MWS.best_params_     # The best combination of parameters for our pipeline"
   ]
  },
  {
   "cell_type": "markdown",
   "metadata": {},
   "source": [
    "Note same parameters for MWS as EAP"
   ]
  },
  {
   "cell_type": "code",
   "execution_count": 104,
   "metadata": {},
   "outputs": [
    {
     "name": "stdout",
     "output_type": "stream",
     "text": [
      "16527    0.0\n",
      "6398     0.0\n",
      "10604    1.0\n",
      "17864    0.0\n",
      "19368    1.0\n",
      "15369    0.0\n",
      "3949     0.0\n",
      "14934    0.0\n",
      "5469     0.0\n",
      "6409     0.0\n",
      "dtype: float64\n",
      "\n",
      "16527    0\n",
      "6398     1\n",
      "10604    1\n",
      "17864    1\n",
      "19368    1\n",
      "15369    0\n",
      "3949     0\n",
      "14934    1\n",
      "5469     0\n",
      "6409     0\n",
      "Name: MWS, dtype: uint8\n"
     ]
    }
   ],
   "source": [
    "# Get a prediction from the test data we split off earlier -- We have the correct labels for this in y_test_MWS\n",
    "y_pred_MWS = gs_MWS.predict_proba(X_test_MWS)\n",
    "\n",
    "# Reformat results\n",
    "y_pred_MWS = np.array(y_pred_MWS)\n",
    "y_pred_MWS = pd.Series(index=y_test_MWS.index,\n",
    "                       data=y_pred_MWS[:,1]\n",
    "                      ).round()\n",
    "\n",
    "print(y_pred_MWS.head(10))\n",
    "print\n",
    "print(y_test_MWS.head(10))"
   ]
  },
  {
   "cell_type": "code",
   "execution_count": 106,
   "metadata": {},
   "outputs": [
    {
     "data": {
      "text/plain": [
       "count     5874\n",
       "unique       2\n",
       "top       True\n",
       "freq      4911\n",
       "dtype: object"
      ]
     },
     "execution_count": 106,
     "metadata": {},
     "output_type": "execute_result"
    }
   ],
   "source": [
    "# ----- Results -----\n",
    "y_test_MWS.eq(y_pred_MWS).describe()"
   ]
  },
  {
   "cell_type": "code",
   "execution_count": 107,
   "metadata": {},
   "outputs": [
    {
     "data": {
      "text/plain": [
       "0.8360572012257406"
      ]
     },
     "execution_count": 107,
     "metadata": {},
     "output_type": "execute_result"
    }
   ],
   "source": [
    "4911.0/5874.0"
   ]
  },
  {
   "cell_type": "code",
   "execution_count": 108,
   "metadata": {},
   "outputs": [
    {
     "name": "stdout",
     "output_type": "stream",
     "text": [
      "Fitting 3 folds for each of 8 candidates, totalling 24 fits\n"
     ]
    },
    {
     "name": "stderr",
     "output_type": "stream",
     "text": [
      "[Parallel(n_jobs=-1)]: Done  24 out of  24 | elapsed:   15.4s finished\n"
     ]
    }
   ],
   "source": [
    "# Last author - HPL\n",
    "# Split training data so we have sove test data to validate our model\n",
    "# Use test size of 30%\n",
    "X_train_HPL, X_test_HPL, y_train_HPL, y_test_HPL = train_test_split(train_is_HPL.text, \n",
    "                                                                    train_is_HPL.HPL,\n",
    "                                                                    test_size=.3,\n",
    "                                                                    random_state=0)\n",
    "# Set up a pipeline to tokenize and then estimate\n",
    "pipe3 = Pipeline([\n",
    "    ('cv', CountVectorizer()),\n",
    "    ('clf', SGDClassifier()),\n",
    "])\n",
    "\n",
    "# Set up parameters to test in our grid search\n",
    "parameters = {\n",
    "    'cv__stop_words': [None,'english'],\n",
    "    'clf__alpha': (0.00001, 0.000001),\n",
    "    'clf__penalty': ('l2', 'elasticnet'),\n",
    "    'clf__loss':['log']\n",
    "}\n",
    "\n",
    "# Test all combinations of paramters for our estimator and vectorizer\n",
    "gs = GridSearchCV(pipe3, parameters, n_jobs=-1, verbose=1)\n",
    "gs_HPL = gs.fit(X_train_HPL, y_train_HPL)"
   ]
  },
  {
   "cell_type": "code",
   "execution_count": 109,
   "metadata": {},
   "outputs": [
    {
     "data": {
      "text/plain": [
       "{'clf__alpha': 1e-05,\n",
       " 'clf__loss': 'log',\n",
       " 'clf__penalty': 'elasticnet',\n",
       " 'cv__stop_words': None}"
      ]
     },
     "execution_count": 109,
     "metadata": {},
     "output_type": "execute_result"
    }
   ],
   "source": [
    "gs_HPL.best_params_     # The best combination of parameters for our pipeline"
   ]
  },
  {
   "cell_type": "markdown",
   "metadata": {},
   "source": [
    "clf_alpha is 1e-05, not 1e-06. Interesting....."
   ]
  },
  {
   "cell_type": "code",
   "execution_count": 110,
   "metadata": {},
   "outputs": [
    {
     "name": "stdout",
     "output_type": "stream",
     "text": [
      "16527    1.0\n",
      "6398     0.0\n",
      "10604    0.0\n",
      "17864    1.0\n",
      "19368    0.0\n",
      "15369    0.0\n",
      "3949     0.0\n",
      "14934    0.0\n",
      "5469     0.0\n",
      "6409     0.0\n",
      "dtype: float64\n",
      "\n",
      "16527    1\n",
      "6398     0\n",
      "10604    0\n",
      "17864    0\n",
      "19368    0\n",
      "15369    1\n",
      "3949     0\n",
      "14934    0\n",
      "5469     0\n",
      "6409     0\n",
      "Name: HPL, dtype: uint8\n"
     ]
    }
   ],
   "source": [
    "# Get a prediction from the test data we split off earlier -- We have the correct labels for this in y_test_HPL\n",
    "y_pred_HPL = gs_HPL.predict_proba(X_test_HPL)\n",
    "\n",
    "# Reformat results\n",
    "y_pred_HPL = np.array(y_pred_HPL)\n",
    "y_pred_HPL = pd.Series(index=y_test_HPL.index,\n",
    "                       data=y_pred_HPL[:,1]\n",
    "                      ).round()\n",
    "\n",
    "print(y_pred_HPL.head(10))\n",
    "print\n",
    "print(y_test_HPL.head(10))"
   ]
  },
  {
   "cell_type": "code",
   "execution_count": 111,
   "metadata": {},
   "outputs": [
    {
     "data": {
      "text/plain": [
       "count     5874\n",
       "unique       2\n",
       "top       True\n",
       "freq      5069\n",
       "dtype: object"
      ]
     },
     "execution_count": 111,
     "metadata": {},
     "output_type": "execute_result"
    }
   ],
   "source": [
    "# ----- Results -----\n",
    "y_test_HPL.eq(y_pred_HPL).describe()"
   ]
  },
  {
   "cell_type": "code",
   "execution_count": 112,
   "metadata": {},
   "outputs": [
    {
     "data": {
      "text/plain": [
       "0.8629553966632618"
      ]
     },
     "execution_count": 112,
     "metadata": {},
     "output_type": "execute_result"
    }
   ],
   "source": [
    "5069.0/5874.0"
   ]
  },
  {
   "cell_type": "markdown",
   "metadata": {},
   "source": [
    "86.3% accuracy. Our best yet! "
   ]
  },
  {
   "cell_type": "code",
   "execution_count": 119,
   "metadata": {},
   "outputs": [
    {
     "name": "stdout",
     "output_type": "stream",
     "text": [
      "       EAP  HPL  MWS\n",
      "16527  0.0  1.0  0.0\n",
      "6398   0.0  0.0  0.0\n",
      "10604  0.0  0.0  1.0\n",
      "17864  0.0  1.0  0.0\n",
      "19368  0.0  0.0  1.0\n",
      "15369  1.0  0.0  0.0\n",
      "3949   1.0  0.0  0.0\n",
      "14934  0.0  0.0  0.0\n",
      "5469   1.0  0.0  0.0\n",
      "6409   1.0  0.0  0.0\n",
      "\n",
      "       EAP  HPL  MWS\n",
      "16527    0    1    0\n",
      "6398     0    0    1\n",
      "10604    0    0    1\n",
      "17864    0    0    1\n",
      "19368    0    0    1\n",
      "15369    0    1    0\n",
      "3949     1    0    0\n",
      "14934    0    0    1\n",
      "5469     1    0    0\n",
      "6409     1    0    0\n"
     ]
    }
   ],
   "source": [
    "# Merge results\n",
    "y_test_merged = pd.concat([y_test_EAP, y_test_HPL, y_test_MWS], axis=1 )\n",
    "y_pred_merged = pd.concat([y_pred_EAP, y_pred_HPL, y_pred_MWS], axis=1 )\n",
    "y_pred_merged = y_pred_merged.rename(index=str, columns={0:\"EAP\",1:\"HPL\",2:\"MWS\"})\n",
    "print(y_pred_merged.head(10))\n",
    "print\n",
    "print(y_test_merged.head(10))"
   ]
  },
  {
   "cell_type": "code",
   "execution_count": 120,
   "metadata": {
    "scrolled": true
   },
   "outputs": [
    {
     "data": {
      "text/html": [
       "<div>\n",
       "<style scoped>\n",
       "    .dataframe tbody tr th:only-of-type {\n",
       "        vertical-align: middle;\n",
       "    }\n",
       "\n",
       "    .dataframe tbody tr th {\n",
       "        vertical-align: top;\n",
       "    }\n",
       "\n",
       "    .dataframe thead th {\n",
       "        text-align: right;\n",
       "    }\n",
       "</style>\n",
       "<table border=\"1\" class=\"dataframe\">\n",
       "  <thead>\n",
       "    <tr style=\"text-align: right;\">\n",
       "      <th></th>\n",
       "      <th>EAP</th>\n",
       "      <th>HPL</th>\n",
       "      <th>MWS</th>\n",
       "    </tr>\n",
       "  </thead>\n",
       "  <tbody>\n",
       "    <tr>\n",
       "      <th>16527</th>\n",
       "      <td>0.000000</td>\n",
       "      <td>1.000000</td>\n",
       "      <td>0.000000</td>\n",
       "    </tr>\n",
       "    <tr>\n",
       "      <th>6398</th>\n",
       "      <td>0.333333</td>\n",
       "      <td>0.333333</td>\n",
       "      <td>0.333333</td>\n",
       "    </tr>\n",
       "    <tr>\n",
       "      <th>10604</th>\n",
       "      <td>0.000000</td>\n",
       "      <td>0.000000</td>\n",
       "      <td>1.000000</td>\n",
       "    </tr>\n",
       "    <tr>\n",
       "      <th>17864</th>\n",
       "      <td>0.000000</td>\n",
       "      <td>1.000000</td>\n",
       "      <td>0.000000</td>\n",
       "    </tr>\n",
       "    <tr>\n",
       "      <th>19368</th>\n",
       "      <td>0.000000</td>\n",
       "      <td>0.000000</td>\n",
       "      <td>1.000000</td>\n",
       "    </tr>\n",
       "    <tr>\n",
       "      <th>15369</th>\n",
       "      <td>1.000000</td>\n",
       "      <td>0.000000</td>\n",
       "      <td>0.000000</td>\n",
       "    </tr>\n",
       "    <tr>\n",
       "      <th>3949</th>\n",
       "      <td>1.000000</td>\n",
       "      <td>0.000000</td>\n",
       "      <td>0.000000</td>\n",
       "    </tr>\n",
       "    <tr>\n",
       "      <th>14934</th>\n",
       "      <td>0.333333</td>\n",
       "      <td>0.333333</td>\n",
       "      <td>0.333333</td>\n",
       "    </tr>\n",
       "    <tr>\n",
       "      <th>5469</th>\n",
       "      <td>1.000000</td>\n",
       "      <td>0.000000</td>\n",
       "      <td>0.000000</td>\n",
       "    </tr>\n",
       "    <tr>\n",
       "      <th>6409</th>\n",
       "      <td>1.000000</td>\n",
       "      <td>0.000000</td>\n",
       "      <td>0.000000</td>\n",
       "    </tr>\n",
       "    <tr>\n",
       "      <th>9837</th>\n",
       "      <td>0.000000</td>\n",
       "      <td>1.000000</td>\n",
       "      <td>0.000000</td>\n",
       "    </tr>\n",
       "    <tr>\n",
       "      <th>385</th>\n",
       "      <td>0.500000</td>\n",
       "      <td>0.500000</td>\n",
       "      <td>0.000000</td>\n",
       "    </tr>\n",
       "    <tr>\n",
       "      <th>763</th>\n",
       "      <td>1.000000</td>\n",
       "      <td>0.000000</td>\n",
       "      <td>0.000000</td>\n",
       "    </tr>\n",
       "    <tr>\n",
       "      <th>9844</th>\n",
       "      <td>0.000000</td>\n",
       "      <td>0.000000</td>\n",
       "      <td>1.000000</td>\n",
       "    </tr>\n",
       "    <tr>\n",
       "      <th>3543</th>\n",
       "      <td>0.333333</td>\n",
       "      <td>0.333333</td>\n",
       "      <td>0.333333</td>\n",
       "    </tr>\n",
       "    <tr>\n",
       "      <th>9486</th>\n",
       "      <td>1.000000</td>\n",
       "      <td>0.000000</td>\n",
       "      <td>0.000000</td>\n",
       "    </tr>\n",
       "    <tr>\n",
       "      <th>5374</th>\n",
       "      <td>0.000000</td>\n",
       "      <td>0.000000</td>\n",
       "      <td>1.000000</td>\n",
       "    </tr>\n",
       "    <tr>\n",
       "      <th>17287</th>\n",
       "      <td>1.000000</td>\n",
       "      <td>0.000000</td>\n",
       "      <td>0.000000</td>\n",
       "    </tr>\n",
       "    <tr>\n",
       "      <th>591</th>\n",
       "      <td>0.333333</td>\n",
       "      <td>0.333333</td>\n",
       "      <td>0.333333</td>\n",
       "    </tr>\n",
       "    <tr>\n",
       "      <th>15429</th>\n",
       "      <td>1.000000</td>\n",
       "      <td>0.000000</td>\n",
       "      <td>0.000000</td>\n",
       "    </tr>\n",
       "    <tr>\n",
       "      <th>17382</th>\n",
       "      <td>0.000000</td>\n",
       "      <td>1.000000</td>\n",
       "      <td>0.000000</td>\n",
       "    </tr>\n",
       "    <tr>\n",
       "      <th>4643</th>\n",
       "      <td>0.000000</td>\n",
       "      <td>0.000000</td>\n",
       "      <td>1.000000</td>\n",
       "    </tr>\n",
       "    <tr>\n",
       "      <th>3261</th>\n",
       "      <td>0.000000</td>\n",
       "      <td>0.000000</td>\n",
       "      <td>1.000000</td>\n",
       "    </tr>\n",
       "    <tr>\n",
       "      <th>768</th>\n",
       "      <td>1.000000</td>\n",
       "      <td>0.000000</td>\n",
       "      <td>0.000000</td>\n",
       "    </tr>\n",
       "    <tr>\n",
       "      <th>51</th>\n",
       "      <td>1.000000</td>\n",
       "      <td>0.000000</td>\n",
       "      <td>0.000000</td>\n",
       "    </tr>\n",
       "    <tr>\n",
       "      <th>17703</th>\n",
       "      <td>0.000000</td>\n",
       "      <td>0.000000</td>\n",
       "      <td>1.000000</td>\n",
       "    </tr>\n",
       "    <tr>\n",
       "      <th>9184</th>\n",
       "      <td>0.000000</td>\n",
       "      <td>0.000000</td>\n",
       "      <td>1.000000</td>\n",
       "    </tr>\n",
       "    <tr>\n",
       "      <th>14765</th>\n",
       "      <td>0.000000</td>\n",
       "      <td>1.000000</td>\n",
       "      <td>0.000000</td>\n",
       "    </tr>\n",
       "    <tr>\n",
       "      <th>12946</th>\n",
       "      <td>0.000000</td>\n",
       "      <td>0.000000</td>\n",
       "      <td>1.000000</td>\n",
       "    </tr>\n",
       "    <tr>\n",
       "      <th>13245</th>\n",
       "      <td>0.500000</td>\n",
       "      <td>0.500000</td>\n",
       "      <td>0.000000</td>\n",
       "    </tr>\n",
       "  </tbody>\n",
       "</table>\n",
       "</div>"
      ],
      "text/plain": [
       "            EAP       HPL       MWS\n",
       "16527  0.000000  1.000000  0.000000\n",
       "6398   0.333333  0.333333  0.333333\n",
       "10604  0.000000  0.000000  1.000000\n",
       "17864  0.000000  1.000000  0.000000\n",
       "19368  0.000000  0.000000  1.000000\n",
       "15369  1.000000  0.000000  0.000000\n",
       "3949   1.000000  0.000000  0.000000\n",
       "14934  0.333333  0.333333  0.333333\n",
       "5469   1.000000  0.000000  0.000000\n",
       "6409   1.000000  0.000000  0.000000\n",
       "9837   0.000000  1.000000  0.000000\n",
       "385    0.500000  0.500000  0.000000\n",
       "763    1.000000  0.000000  0.000000\n",
       "9844   0.000000  0.000000  1.000000\n",
       "3543   0.333333  0.333333  0.333333\n",
       "9486   1.000000  0.000000  0.000000\n",
       "5374   0.000000  0.000000  1.000000\n",
       "17287  1.000000  0.000000  0.000000\n",
       "591    0.333333  0.333333  0.333333\n",
       "15429  1.000000  0.000000  0.000000\n",
       "17382  0.000000  1.000000  0.000000\n",
       "4643   0.000000  0.000000  1.000000\n",
       "3261   0.000000  0.000000  1.000000\n",
       "768    1.000000  0.000000  0.000000\n",
       "51     1.000000  0.000000  0.000000\n",
       "17703  0.000000  0.000000  1.000000\n",
       "9184   0.000000  0.000000  1.000000\n",
       "14765  0.000000  1.000000  0.000000\n",
       "12946  0.000000  0.000000  1.000000\n",
       "13245  0.500000  0.500000  0.000000"
      ]
     },
     "execution_count": 120,
     "metadata": {},
     "output_type": "execute_result"
    }
   ],
   "source": [
    "# Implement logic to make confidence guess\n",
    "# This is very basic logic: \n",
    "# - We will use a 0 for 0\n",
    "# - We will use a 1 for 1\n",
    "# - We will use .333 in cases where all guesses are 0 or all 1\n",
    "# - We will use .5 in cases where exactly two authors recieved 1\n",
    "\n",
    "y_pred_confidence = y_pred_merged.copy()\n",
    "for i, rw in y_pred_merged.iterrows():\n",
    "    cumsum = rw[0] + rw[1] + rw[2]\n",
    "    \n",
    "    # Case all 0's or all 1's\n",
    "    if cumsum == 0 or cumsum == 3:\n",
    "        y_pred_confidence.loc[i,:] = (1.0/3.0)\n",
    "    elif cumsum == 2:\n",
    "        y_pred_confidence.loc[i,:] *= .5 # This multiplies 1's by .5 while leaving the 0 unchanged\n",
    "        \n",
    "y_pred_confidence.head(30)    "
   ]
  },
  {
   "cell_type": "code",
   "execution_count": 121,
   "metadata": {},
   "outputs": [
    {
     "data": {
      "text/plain": [
       "4.584770773102071"
      ]
     },
     "execution_count": 121,
     "metadata": {},
     "output_type": "execute_result"
    }
   ],
   "source": [
    "log_loss(y_test_merged, y_pred_confidence)"
   ]
  },
  {
   "cell_type": "markdown",
   "metadata": {},
   "source": [
    "Still high...."
   ]
  },
  {
   "cell_type": "code",
   "execution_count": 132,
   "metadata": {},
   "outputs": [
    {
     "ename": "SyntaxError",
     "evalue": "invalid syntax (<ipython-input-132-007325d0b9ed>, line 6)",
     "output_type": "error",
     "traceback": [
      "\u001b[1;36m  File \u001b[1;32m\"<ipython-input-132-007325d0b9ed>\"\u001b[1;36m, line \u001b[1;32m6\u001b[0m\n\u001b[1;33m    ('vect'TfidfVectorizer),\u001b[0m\n\u001b[1;37m                         ^\u001b[0m\n\u001b[1;31mSyntaxError\u001b[0m\u001b[1;31m:\u001b[0m invalid syntax\n"
     ]
    }
   ],
   "source": [
    "# Submission time. Here goes nothing...\n",
    "\n",
    "X_train = train.text\n",
    "y_train = \n",
    "\n",
    "pipe = Pipeline([\n",
    "    ('cv', CountVectorizer()),\n",
    "    ('clf', SGDClassifier()),\n",
    "])\n",
    "\n",
    "# Set up parameters to test in our grid search\n",
    "parameters = {\n",
    "    'cv__stop_words': [None,'english'],\n",
    "    'clf__alpha': (0.00001, 0.000001),\n",
    "    'clf__penalty': ('l2', 'elasticnet'),\n",
    "    'clf__loss':['log']\n",
    "}\n",
    "\n",
    "# Test all combinations of paramters for our estimator and vectorizer\n",
    "gs = GridSearchCV(pipe, parameters, n_jobs=-1, verbose=1)\n",
    "\n",
    "# Predict EAP\n",
    "gs_EAP = gs.fit(X_train, train_is_EAP.EAP)\n",
    "sub_pred_EAP = gs_EAP.predict_proba(test.text)\n",
    "sub_pred_EAP = np.array(sub_pred_EAP)\n",
    "sub_pred_EAP = pd.Series(index=test.index,\n",
    "                       data=sub_pred_EAP[:,1]\n",
    "                      ).round()\n",
    "\n",
    "# Predict HPL\n",
    "gs_HPL = gs.fit(X_train, train_is_HPL.HPL)\n",
    "sub_pred_HPL = gs_HPL.predict_proba(test.text)\n",
    "sub_pred_HPL = np.array(sub_pred_HPL)\n",
    "sub_pred_HPL = pd.Series(index=test.index,\n",
    "                       data=sub_pred_HPL[:,1]\n",
    "                      ).round()\n",
    "\n",
    "\n",
    "# Predict MWS\n",
    "gs_MWS = gs.fit(X_train, train_is_MWS.MWS)\n",
    "sub_pred_MWS = gs_MWS.predict_proba(test.text)\n",
    "sub_pred_MWS = np.array(sub_pred_MWS)\n",
    "sub_pred_MWS = pd.Series(index=test.index,\n",
    "                       data=sub_pred_MWS[:,1]\n",
    "                      ).round()\n",
    "\n",
    "\n",
    "\n",
    "# Merge results\n",
    "sub_pred_merged = pd.concat([test.id, sub_pred_EAP, sub_pred_HPL, sub_pred_MWS], axis=1 )\n",
    "sub_pred_merged"
   ]
  },
  {
   "cell_type": "code",
   "execution_count": 130,
   "metadata": {},
   "outputs": [
    {
     "data": {
      "text/html": [
       "<div>\n",
       "<style scoped>\n",
       "    .dataframe tbody tr th:only-of-type {\n",
       "        vertical-align: middle;\n",
       "    }\n",
       "\n",
       "    .dataframe tbody tr th {\n",
       "        vertical-align: top;\n",
       "    }\n",
       "\n",
       "    .dataframe thead th {\n",
       "        text-align: right;\n",
       "    }\n",
       "</style>\n",
       "<table border=\"1\" class=\"dataframe\">\n",
       "  <thead>\n",
       "    <tr style=\"text-align: right;\">\n",
       "      <th></th>\n",
       "      <th>id</th>\n",
       "      <th>EAP</th>\n",
       "      <th>HPL</th>\n",
       "      <th>MWS</th>\n",
       "    </tr>\n",
       "  </thead>\n",
       "  <tbody>\n",
       "    <tr>\n",
       "      <th>0</th>\n",
       "      <td>id02310</td>\n",
       "      <td>0.000000</td>\n",
       "      <td>0.000000</td>\n",
       "      <td>1.000000</td>\n",
       "    </tr>\n",
       "    <tr>\n",
       "      <th>1</th>\n",
       "      <td>id24541</td>\n",
       "      <td>1.000000</td>\n",
       "      <td>0.000000</td>\n",
       "      <td>0.000000</td>\n",
       "    </tr>\n",
       "    <tr>\n",
       "      <th>2</th>\n",
       "      <td>id00134</td>\n",
       "      <td>0.000000</td>\n",
       "      <td>1.000000</td>\n",
       "      <td>0.000000</td>\n",
       "    </tr>\n",
       "    <tr>\n",
       "      <th>3</th>\n",
       "      <td>id27757</td>\n",
       "      <td>1.000000</td>\n",
       "      <td>0.000000</td>\n",
       "      <td>0.000000</td>\n",
       "    </tr>\n",
       "    <tr>\n",
       "      <th>4</th>\n",
       "      <td>id04081</td>\n",
       "      <td>1.000000</td>\n",
       "      <td>0.000000</td>\n",
       "      <td>0.000000</td>\n",
       "    </tr>\n",
       "    <tr>\n",
       "      <th>5</th>\n",
       "      <td>id27337</td>\n",
       "      <td>1.000000</td>\n",
       "      <td>0.000000</td>\n",
       "      <td>0.000000</td>\n",
       "    </tr>\n",
       "    <tr>\n",
       "      <th>6</th>\n",
       "      <td>id24265</td>\n",
       "      <td>1.000000</td>\n",
       "      <td>0.000000</td>\n",
       "      <td>0.000000</td>\n",
       "    </tr>\n",
       "    <tr>\n",
       "      <th>7</th>\n",
       "      <td>id25917</td>\n",
       "      <td>0.333333</td>\n",
       "      <td>0.333333</td>\n",
       "      <td>0.333333</td>\n",
       "    </tr>\n",
       "    <tr>\n",
       "      <th>8</th>\n",
       "      <td>id04951</td>\n",
       "      <td>1.000000</td>\n",
       "      <td>0.000000</td>\n",
       "      <td>0.000000</td>\n",
       "    </tr>\n",
       "    <tr>\n",
       "      <th>9</th>\n",
       "      <td>id14549</td>\n",
       "      <td>1.000000</td>\n",
       "      <td>0.000000</td>\n",
       "      <td>0.000000</td>\n",
       "    </tr>\n",
       "    <tr>\n",
       "      <th>10</th>\n",
       "      <td>id22505</td>\n",
       "      <td>0.000000</td>\n",
       "      <td>0.500000</td>\n",
       "      <td>0.500000</td>\n",
       "    </tr>\n",
       "    <tr>\n",
       "      <th>11</th>\n",
       "      <td>id24002</td>\n",
       "      <td>0.000000</td>\n",
       "      <td>1.000000</td>\n",
       "      <td>0.000000</td>\n",
       "    </tr>\n",
       "    <tr>\n",
       "      <th>12</th>\n",
       "      <td>id18982</td>\n",
       "      <td>0.333333</td>\n",
       "      <td>0.333333</td>\n",
       "      <td>0.333333</td>\n",
       "    </tr>\n",
       "    <tr>\n",
       "      <th>13</th>\n",
       "      <td>id15181</td>\n",
       "      <td>0.000000</td>\n",
       "      <td>1.000000</td>\n",
       "      <td>0.000000</td>\n",
       "    </tr>\n",
       "    <tr>\n",
       "      <th>14</th>\n",
       "      <td>id21888</td>\n",
       "      <td>1.000000</td>\n",
       "      <td>0.000000</td>\n",
       "      <td>0.000000</td>\n",
       "    </tr>\n",
       "    <tr>\n",
       "      <th>15</th>\n",
       "      <td>id12035</td>\n",
       "      <td>0.000000</td>\n",
       "      <td>0.000000</td>\n",
       "      <td>1.000000</td>\n",
       "    </tr>\n",
       "    <tr>\n",
       "      <th>16</th>\n",
       "      <td>id17991</td>\n",
       "      <td>0.333333</td>\n",
       "      <td>0.333333</td>\n",
       "      <td>0.333333</td>\n",
       "    </tr>\n",
       "    <tr>\n",
       "      <th>17</th>\n",
       "      <td>id10707</td>\n",
       "      <td>1.000000</td>\n",
       "      <td>0.000000</td>\n",
       "      <td>0.000000</td>\n",
       "    </tr>\n",
       "    <tr>\n",
       "      <th>18</th>\n",
       "      <td>id07101</td>\n",
       "      <td>0.000000</td>\n",
       "      <td>0.000000</td>\n",
       "      <td>1.000000</td>\n",
       "    </tr>\n",
       "    <tr>\n",
       "      <th>19</th>\n",
       "      <td>id00345</td>\n",
       "      <td>0.000000</td>\n",
       "      <td>1.000000</td>\n",
       "      <td>0.000000</td>\n",
       "    </tr>\n",
       "    <tr>\n",
       "      <th>20</th>\n",
       "      <td>id05912</td>\n",
       "      <td>1.000000</td>\n",
       "      <td>0.000000</td>\n",
       "      <td>0.000000</td>\n",
       "    </tr>\n",
       "    <tr>\n",
       "      <th>21</th>\n",
       "      <td>id13443</td>\n",
       "      <td>1.000000</td>\n",
       "      <td>0.000000</td>\n",
       "      <td>0.000000</td>\n",
       "    </tr>\n",
       "    <tr>\n",
       "      <th>22</th>\n",
       "      <td>id09248</td>\n",
       "      <td>0.000000</td>\n",
       "      <td>0.000000</td>\n",
       "      <td>1.000000</td>\n",
       "    </tr>\n",
       "    <tr>\n",
       "      <th>23</th>\n",
       "      <td>id17542</td>\n",
       "      <td>0.000000</td>\n",
       "      <td>1.000000</td>\n",
       "      <td>0.000000</td>\n",
       "    </tr>\n",
       "    <tr>\n",
       "      <th>24</th>\n",
       "      <td>id06995</td>\n",
       "      <td>0.000000</td>\n",
       "      <td>0.000000</td>\n",
       "      <td>1.000000</td>\n",
       "    </tr>\n",
       "    <tr>\n",
       "      <th>25</th>\n",
       "      <td>id25159</td>\n",
       "      <td>1.000000</td>\n",
       "      <td>0.000000</td>\n",
       "      <td>0.000000</td>\n",
       "    </tr>\n",
       "    <tr>\n",
       "      <th>26</th>\n",
       "      <td>id25729</td>\n",
       "      <td>0.333333</td>\n",
       "      <td>0.333333</td>\n",
       "      <td>0.333333</td>\n",
       "    </tr>\n",
       "    <tr>\n",
       "      <th>27</th>\n",
       "      <td>id26949</td>\n",
       "      <td>1.000000</td>\n",
       "      <td>0.000000</td>\n",
       "      <td>0.000000</td>\n",
       "    </tr>\n",
       "    <tr>\n",
       "      <th>28</th>\n",
       "      <td>id27191</td>\n",
       "      <td>0.000000</td>\n",
       "      <td>0.000000</td>\n",
       "      <td>1.000000</td>\n",
       "    </tr>\n",
       "    <tr>\n",
       "      <th>29</th>\n",
       "      <td>id07668</td>\n",
       "      <td>0.333333</td>\n",
       "      <td>0.333333</td>\n",
       "      <td>0.333333</td>\n",
       "    </tr>\n",
       "  </tbody>\n",
       "</table>\n",
       "</div>"
      ],
      "text/plain": [
       "         id       EAP       HPL       MWS\n",
       "0   id02310  0.000000  0.000000  1.000000\n",
       "1   id24541  1.000000  0.000000  0.000000\n",
       "2   id00134  0.000000  1.000000  0.000000\n",
       "3   id27757  1.000000  0.000000  0.000000\n",
       "4   id04081  1.000000  0.000000  0.000000\n",
       "5   id27337  1.000000  0.000000  0.000000\n",
       "6   id24265  1.000000  0.000000  0.000000\n",
       "7   id25917  0.333333  0.333333  0.333333\n",
       "8   id04951  1.000000  0.000000  0.000000\n",
       "9   id14549  1.000000  0.000000  0.000000\n",
       "10  id22505  0.000000  0.500000  0.500000\n",
       "11  id24002  0.000000  1.000000  0.000000\n",
       "12  id18982  0.333333  0.333333  0.333333\n",
       "13  id15181  0.000000  1.000000  0.000000\n",
       "14  id21888  1.000000  0.000000  0.000000\n",
       "15  id12035  0.000000  0.000000  1.000000\n",
       "16  id17991  0.333333  0.333333  0.333333\n",
       "17  id10707  1.000000  0.000000  0.000000\n",
       "18  id07101  0.000000  0.000000  1.000000\n",
       "19  id00345  0.000000  1.000000  0.000000\n",
       "20  id05912  1.000000  0.000000  0.000000\n",
       "21  id13443  1.000000  0.000000  0.000000\n",
       "22  id09248  0.000000  0.000000  1.000000\n",
       "23  id17542  0.000000  1.000000  0.000000\n",
       "24  id06995  0.000000  0.000000  1.000000\n",
       "25  id25159  1.000000  0.000000  0.000000\n",
       "26  id25729  0.333333  0.333333  0.333333\n",
       "27  id26949  1.000000  0.000000  0.000000\n",
       "28  id27191  0.000000  0.000000  1.000000\n",
       "29  id07668  0.333333  0.333333  0.333333"
      ]
     },
     "execution_count": 130,
     "metadata": {},
     "output_type": "execute_result"
    }
   ],
   "source": [
    "# Rename Columns and convert to confidences\n",
    "sub_pred_merged = sub_pred_merged.rename(index=str, columns={0:\"EAP\",1:\"HPL\",2:\"MWS\"})\n",
    "\n",
    "sub_pred_confidence = sub_pred_merged.copy()\n",
    "for i, rw in sub_pred_merged.iterrows():\n",
    "    cumsum = rw['EAP'] + rw['HPL'] + rw['MWS']\n",
    "    \n",
    "    # Case all 0's or all 1's\n",
    "    if cumsum == 0 or cumsum == 3:\n",
    "        sub_pred_confidence.loc[i,['EAP','HPL','MWS']] = (1.0/3.0)\n",
    "    elif cumsum == 2:\n",
    "        sub_pred_confidence.loc[i,['EAP','HPL','MWS']] *= .5 # This multiplies 1's by .5 while leaving the 0 unchanged\n",
    "        \n",
    "sub_pred_confidence.head(30)\n"
   ]
  },
  {
   "cell_type": "code",
   "execution_count": 131,
   "metadata": {},
   "outputs": [],
   "source": [
    "# Create csv\n",
    "sub_pred_confidence.to_csv(\"Submission1.csv\")"
   ]
  },
  {
   "cell_type": "markdown",
   "metadata": {},
   "source": [
    "Welp, we got a score... 3.9\n",
    ".....which is basically last place. Hooray!\n",
    "Time to go back to the drawing board...."
   ]
  },
  {
   "cell_type": "code",
   "execution_count": 139,
   "metadata": {},
   "outputs": [
    {
     "name": "stdout",
     "output_type": "stream",
     "text": [
      "Fitting 3 folds for each of 32 candidates, totalling 96 fits\n"
     ]
    },
    {
     "name": "stderr",
     "output_type": "stream",
     "text": [
      "[Parallel(n_jobs=-1)]: Done  34 tasks      | elapsed:   14.9s\n",
      "[Parallel(n_jobs=-1)]: Done  96 out of  96 | elapsed:   31.7s finished\n"
     ]
    },
    {
     "data": {
      "text/plain": [
       "array([[0.28573544, 0.0364517 , 0.67781286],\n",
       "       [0.83073249, 0.15973222, 0.0095353 ],\n",
       "       [0.14737348, 0.82629916, 0.02632736],\n",
       "       ...,\n",
       "       [0.75194459, 0.08310976, 0.16494565],\n",
       "       [0.31656234, 0.03034454, 0.65309312],\n",
       "       [0.39693582, 0.60124234, 0.00182184]])"
      ]
     },
     "execution_count": 139,
     "metadata": {},
     "output_type": "execute_result"
    }
   ],
   "source": [
    "# Submission time. Here goes nothing...\n",
    "\n",
    "X_train = train.text\n",
    "lbl_encoder = LabelEncoder()\n",
    "y_train = lbl_encoder.fit_transform(train.author)\n",
    "\n",
    "pipe = Pipeline([\n",
    "    ('tfidf', TfidfVectorizer()),\n",
    "    ('clf', SGDClassifier()),\n",
    "])\n",
    "\n",
    "# Set up parameters to test in our grid search\n",
    "parameters = {\n",
    "    'tfidf__stop_words': [None,'english'],\n",
    "    'tfidf__min_df': (2, 3, 4, 5),\n",
    "    'tfidf__strip_accents': ['unicode'],\n",
    "    'tfidf__analyzer': ['word'],\n",
    "    'clf__alpha': (0.00001, 0.000001),\n",
    "    'clf__penalty': ('l2', 'elasticnet'),\n",
    "    'clf__loss':['log']\n",
    "}\n",
    "\n",
    "# Test all combinations of paramters for our estimator and vectorizer\n",
    "gs = GridSearchCV(pipe, parameters, n_jobs=-1, verbose=1)\n",
    "\n",
    "# Predict\n",
    "gs = gs.fit(X_train, y_train)\n",
    "pred = gs.predict_proba(test.text)\n",
    "pred"
   ]
  },
  {
   "cell_type": "code",
   "execution_count": 141,
   "metadata": {},
   "outputs": [],
   "source": [
    "pred_df = pd.DataFrame(data=pred, index=test.id, columns=['EAP','HPL','MWS'])\n",
    "pred_df.to_csv(\"Attempt2\")"
   ]
  },
  {
   "cell_type": "code",
   "execution_count": null,
   "metadata": {},
   "outputs": [],
   "source": []
  }
 ],
 "metadata": {
  "kernelspec": {
   "display_name": "Python 2",
   "language": "python",
   "name": "python2"
  },
  "language_info": {
   "codemirror_mode": {
    "name": "ipython",
    "version": 2
   },
   "file_extension": ".py",
   "mimetype": "text/x-python",
   "name": "python",
   "nbconvert_exporter": "python",
   "pygments_lexer": "ipython2",
   "version": "2.7.15"
  }
 },
 "nbformat": 4,
 "nbformat_minor": 2
}
